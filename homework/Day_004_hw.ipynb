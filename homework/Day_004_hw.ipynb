{
 "cells": [
  {
   "cell_type": "markdown",
   "metadata": {},
   "source": [
    "# Julia 數值系統介紹\n",
    "\n",
    "## Day 004 作業\n",
    "\n",
    "今天的內容提到整數及浮點數型別之最小值和最大值：\n",
    "\n",
    "|是否有正負號|型別|<div style=\"width:120px\">最大值</div>|<div style=\"width:120px\">最小值</div>|\n",
    "|---|---|---|---|\n",
    "|有|Int128, Int64, Int32, Int16, Int8|$2^{位元數-1}-1$|$-2^{位元數-1}$|\n",
    "|無|UInt128, UInt64, UInt32, UInt16, UInt8|$2^{位元數}-1$|$0$|\n",
    "\n",
    "|型別|最小值|最大值|\n",
    "|---|---|---|\n",
    "|`Float64`|-Inf|Inf|\n",
    "|`Float32`|-Inf 或 -Inf32|Inf 或 Inf32|\n",
    "|`Float16`|-Inf 或 -Inf16|Inf 或 Inf16|\n",
    "\n",
    "### 作業：範例程式示範了 Int64 及 Float64 的最小值和最大值，作業請列出並觀察其他整數及浮點數型別的最小值和最大值。"
   ]
  },
  {
   "cell_type": "markdown",
   "metadata": {},
   "source": [
    "呼叫 `typemin()` 及 `typemax()` 函式得到各型別的最小值和最大值。\n",
    "\n",
    "列出 Int128, Int32, Int16, Int8, UInt128, UInt64, UInt32, UInt16, UInt8 整數型別的最小值及最大值"
   ]
  },
  {
   "cell_type": "code",
   "execution_count": 1,
   "metadata": {},
   "outputs": [
    {
     "name": "stdout",
     "output_type": "stream",
     "text": [
      "最小值 -9223372036854775808, 最大值 9223372036854775807\n"
     ]
    }
   ],
   "source": [
    "println(\"最小值 $(typemin(Int128)), 最大值 $(typemax(Int128))\")"
   ]
  },
  {
   "cell_type": "code",
   "execution_count": 2,
   "metadata": {},
   "outputs": [
    {
     "name": "stdout",
     "output_type": "stream",
     "text": [
      "最小值 -2147483648, 最大值 2147483647\n"
     ]
    }
   ],
   "source": [
    "println(\"最小值 $(typemin(Int32)), 最大值 $(typemax(Int32))\")"
   ]
  },
  {
   "cell_type": "code",
   "execution_count": 3,
   "metadata": {},
   "outputs": [
    {
     "name": "stdout",
     "output_type": "stream",
     "text": [
      "最小值 -32768, 最大值 32767\n"
     ]
    }
   ],
   "source": [
    "println(\"最小值 $(typemin(Int16)), 最大值 $(typemax(Int16))\")"
   ]
  },
  {
   "cell_type": "code",
   "execution_count": 4,
   "metadata": {},
   "outputs": [
    {
     "name": "stdout",
     "output_type": "stream",
     "text": [
      "最小值 -128, 最大值 127\n"
     ]
    }
   ],
   "source": [
    "println(\"最小值 $(typemin(Int8)), 最大值 $(typemax(Int8))\")"
   ]
  },
  {
   "cell_type": "code",
   "execution_count": 5,
   "metadata": {},
   "outputs": [
    {
     "name": "stdout",
     "output_type": "stream",
     "text": [
      "最小值 0, 最大值 340282366920938463463374607431768211455\n"
     ]
    }
   ],
   "source": [
    "println(\"最小值 $(typemin(UInt128)), 最大值 $(typemax(UInt128))\")"
   ]
  },
  {
   "cell_type": "code",
   "execution_count": 6,
   "metadata": {},
   "outputs": [
    {
     "name": "stdout",
     "output_type": "stream",
     "text": [
      "最小值 0, 最大值 18446744073709551615\n"
     ]
    }
   ],
   "source": [
    "println(\"最小值 $(typemin(UInt64)), 最大值 $(typemax(UInt64))\")"
   ]
  },
  {
   "cell_type": "code",
   "execution_count": 7,
   "metadata": {},
   "outputs": [
    {
     "name": "stdout",
     "output_type": "stream",
     "text": [
      "最小值 0, 最大值 4294967295\n"
     ]
    }
   ],
   "source": [
    "println(\"最小值 $(typemin(UInt32)), 最大值 $(typemax(UInt32))\")"
   ]
  },
  {
   "cell_type": "code",
   "execution_count": 8,
   "metadata": {},
   "outputs": [
    {
     "name": "stdout",
     "output_type": "stream",
     "text": [
      "最小值 0, 最大值 65535\n"
     ]
    }
   ],
   "source": [
    "println(\"最小值 $(typemin(UInt16)), 最大值 $(typemax(UInt16))\")"
   ]
  },
  {
   "cell_type": "code",
   "execution_count": 9,
   "metadata": {},
   "outputs": [
    {
     "name": "stdout",
     "output_type": "stream",
     "text": [
      "最小值 0, 最大值 255\n"
     ]
    }
   ],
   "source": [
    "println(\"最小值 $(typemin(UInt8)), 最大值 $(typemax(UInt8))\")"
   ]
  },
  {
   "cell_type": "markdown",
   "metadata": {},
   "source": [
    "列出 Float32, Float16 浮點數型別的最小和最大值"
   ]
  },
  {
   "cell_type": "code",
   "execution_count": 10,
   "metadata": {},
   "outputs": [
    {
     "name": "stdout",
     "output_type": "stream",
     "text": [
      "最小值 -Inf, 最大值 Inf\n"
     ]
    }
   ],
   "source": [
    "println(\"最小值 $(typemin(Float32)), 最大值 $(typemax(Float32))\")"
   ]
  },
  {
   "cell_type": "code",
   "execution_count": 11,
   "metadata": {},
   "outputs": [
    {
     "name": "stdout",
     "output_type": "stream",
     "text": [
      "最小值 -Inf, 最大值 Inf\n"
     ]
    }
   ],
   "source": [
    "println(\"最小值 $(typemin(Float16)), 最大值 $(typemax(Float16))\")"
   ]
  },
  {
   "cell_type": "code",
   "execution_count": null,
   "metadata": {},
   "outputs": [],
   "source": []
  }
 ],
 "metadata": {
  "@webio": {
   "lastCommId": null,
   "lastKernelId": null
  },
  "kernelspec": {
   "display_name": "Julia 1.2.0",
   "language": "julia",
   "name": "julia-1.2"
  },
  "language_info": {
   "file_extension": ".jl",
   "mimetype": "application/julia",
   "name": "julia",
   "version": "1.2.0"
  }
 },
 "nbformat": 4,
 "nbformat_minor": 4
}
